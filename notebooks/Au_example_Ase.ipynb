{
 "cells": [
  {
   "cell_type": "code",
   "execution_count": 63,
   "id": "d476930b-321c-4284-b049-f996710112f5",
   "metadata": {
    "collapsed": true,
    "jupyter": {
     "outputs_hidden": true
    },
    "tags": []
   },
   "outputs": [
    {
     "name": "stdout",
     "output_type": "stream",
     "text": [
      "Looking in indexes: https://pypi.org/simple, https://pypi.ngc.nvidia.com\n",
      "Collecting CASTING\n",
      "  Downloading CASTING-0.1.1-py3-none-any.whl (18 kB)\n",
      "Requirement already satisfied: pandas>=1.4.3 in /global/project/projectdirs/m3572/suvo/anaconda3/lib/python3.9/site-packages (from CASTING) (1.4.4)\n",
      "Requirement already satisfied: scipy>=1.8.0 in /global/project/projectdirs/m3572/suvo/anaconda3/lib/python3.9/site-packages (from CASTING) (1.9.1)\n",
      "Requirement already satisfied: networkx>=2.0 in /global/project/projectdirs/m3572/suvo/anaconda3/lib/python3.9/site-packages (from CASTING) (2.8.4)\n",
      "Requirement already satisfied: pymatgen>=2022.7.25 in /global/project/projectdirs/m3572/suvo/anaconda3/lib/python3.9/site-packages (from CASTING) (2023.2.22)\n",
      "Requirement already satisfied: tqdm>=4.64.0 in /global/project/projectdirs/m3572/suvo/anaconda3/lib/python3.9/site-packages (from CASTING) (4.64.1)\n",
      "Requirement already satisfied: ase>=3.21.1 in /global/project/projectdirs/m3572/suvo/anaconda3/lib/python3.9/site-packages (from CASTING) (3.22.1)\n",
      "Collecting numpy>=1.23.1\n",
      "  Downloading numpy-1.24.3-cp39-cp39-manylinux_2_17_x86_64.manylinux2014_x86_64.whl (17.3 MB)\n",
      "\u001b[2K     \u001b[90m━━━━━━━━━━━━━━━━━━━━━━━━━━━━━━━━━━━━━━━\u001b[0m \u001b[32m17.3/17.3 MB\u001b[0m \u001b[31m158.9 MB/s\u001b[0m eta \u001b[36m0:00:00\u001b[0ma \u001b[36m0:00:01\u001b[0m\n",
      "\u001b[?25hRequirement already satisfied: matplotlib>=3.1.0 in /global/project/projectdirs/m3572/suvo/anaconda3/lib/python3.9/site-packages (from ase>=3.21.1->CASTING) (3.4.0)\n",
      "Requirement already satisfied: python-dateutil>=2.8.1 in /global/project/projectdirs/m3572/suvo/anaconda3/lib/python3.9/site-packages (from pandas>=1.4.3->CASTING) (2.8.2)\n",
      "Requirement already satisfied: pytz>=2020.1 in /global/project/projectdirs/m3572/suvo/anaconda3/lib/python3.9/site-packages (from pandas>=1.4.3->CASTING) (2022.1)\n",
      "Requirement already satisfied: mp-api>=0.27.3 in /global/project/projectdirs/m3572/suvo/anaconda3/lib/python3.9/site-packages (from pymatgen>=2022.7.25->CASTING) (0.30.10)\n",
      "Requirement already satisfied: requests in /global/project/projectdirs/m3572/suvo/anaconda3/lib/python3.9/site-packages (from pymatgen>=2022.7.25->CASTING) (2.28.1)\n",
      "Requirement already satisfied: sympy in /global/project/projectdirs/m3572/suvo/anaconda3/lib/python3.9/site-packages (from pymatgen>=2022.7.25->CASTING) (1.10.1)\n",
      "Requirement already satisfied: ruamel.yaml>=0.17.0 in /global/project/projectdirs/m3572/suvo/anaconda3/lib/python3.9/site-packages (from pymatgen>=2022.7.25->CASTING) (0.17.21)\n",
      "Requirement already satisfied: plotly>=4.5.0 in /global/project/projectdirs/m3572/suvo/anaconda3/lib/python3.9/site-packages (from pymatgen>=2022.7.25->CASTING) (5.9.0)\n",
      "Requirement already satisfied: uncertainties>=3.1.4 in /global/project/projectdirs/m3572/suvo/anaconda3/lib/python3.9/site-packages (from pymatgen>=2022.7.25->CASTING) (3.1.7)\n",
      "Requirement already satisfied: tabulate in /global/project/projectdirs/m3572/suvo/anaconda3/lib/python3.9/site-packages (from pymatgen>=2022.7.25->CASTING) (0.8.10)\n",
      "Requirement already satisfied: monty>=3.0.2 in /global/project/projectdirs/m3572/suvo/anaconda3/lib/python3.9/site-packages (from pymatgen>=2022.7.25->CASTING) (2022.9.9)\n",
      "Requirement already satisfied: spglib>=2.0.2 in /global/project/projectdirs/m3572/suvo/anaconda3/lib/python3.9/site-packages (from pymatgen>=2022.7.25->CASTING) (2.0.2)\n",
      "Requirement already satisfied: pybtex in /global/project/projectdirs/m3572/suvo/anaconda3/lib/python3.9/site-packages (from pymatgen>=2022.7.25->CASTING) (0.24.0)\n",
      "Requirement already satisfied: palettable>=3.1.1 in /global/project/projectdirs/m3572/suvo/anaconda3/lib/python3.9/site-packages (from pymatgen>=2022.7.25->CASTING) (3.3.0)\n",
      "Requirement already satisfied: pillow>=6.2.0 in /global/project/projectdirs/m3572/suvo/anaconda3/lib/python3.9/site-packages (from matplotlib>=3.1.0->ase>=3.21.1->CASTING) (9.2.0)\n",
      "Requirement already satisfied: pyparsing>=2.2.1 in /global/project/projectdirs/m3572/suvo/anaconda3/lib/python3.9/site-packages (from matplotlib>=3.1.0->ase>=3.21.1->CASTING) (3.0.9)\n",
      "Requirement already satisfied: kiwisolver>=1.0.1 in /global/project/projectdirs/m3572/suvo/anaconda3/lib/python3.9/site-packages (from matplotlib>=3.1.0->ase>=3.21.1->CASTING) (1.4.2)\n",
      "Requirement already satisfied: cycler>=0.10 in /global/project/projectdirs/m3572/suvo/anaconda3/lib/python3.9/site-packages (from matplotlib>=3.1.0->ase>=3.21.1->CASTING) (0.11.0)\n",
      "Requirement already satisfied: setuptools in /global/project/projectdirs/m3572/suvo/anaconda3/lib/python3.9/site-packages (from mp-api>=0.27.3->pymatgen>=2022.7.25->CASTING) (63.4.1)\n",
      "Requirement already satisfied: msgpack in /global/project/projectdirs/m3572/suvo/anaconda3/lib/python3.9/site-packages (from mp-api>=0.27.3->pymatgen>=2022.7.25->CASTING) (1.0.3)\n",
      "Requirement already satisfied: typing-extensions>=3.7.4.1 in /global/project/projectdirs/m3572/suvo/anaconda3/lib/python3.9/site-packages (from mp-api>=0.27.3->pymatgen>=2022.7.25->CASTING) (4.3.0)\n",
      "Requirement already satisfied: emmet-core>=0.39.8 in /global/project/projectdirs/m3572/suvo/anaconda3/lib/python3.9/site-packages (from mp-api>=0.27.3->pymatgen>=2022.7.25->CASTING) (0.48.2)\n",
      "Requirement already satisfied: tenacity>=6.2.0 in /global/project/projectdirs/m3572/suvo/anaconda3/lib/python3.9/site-packages (from plotly>=4.5.0->pymatgen>=2022.7.25->CASTING) (8.0.1)\n",
      "Requirement already satisfied: six>=1.5 in /global/project/projectdirs/m3572/suvo/anaconda3/lib/python3.9/site-packages (from python-dateutil>=2.8.1->pandas>=1.4.3->CASTING) (1.16.0)\n",
      "Requirement already satisfied: charset-normalizer<3,>=2 in /global/project/projectdirs/m3572/suvo/anaconda3/lib/python3.9/site-packages (from requests->pymatgen>=2022.7.25->CASTING) (2.0.4)\n",
      "Requirement already satisfied: urllib3<1.27,>=1.21.1 in /global/project/projectdirs/m3572/suvo/anaconda3/lib/python3.9/site-packages (from requests->pymatgen>=2022.7.25->CASTING) (1.26.11)\n",
      "Requirement already satisfied: certifi>=2017.4.17 in /global/project/projectdirs/m3572/suvo/anaconda3/lib/python3.9/site-packages (from requests->pymatgen>=2022.7.25->CASTING) (2022.9.14)\n",
      "Requirement already satisfied: idna<4,>=2.5 in /global/project/projectdirs/m3572/suvo/anaconda3/lib/python3.9/site-packages (from requests->pymatgen>=2022.7.25->CASTING) (3.3)\n",
      "Requirement already satisfied: ruamel.yaml.clib>=0.2.6 in /global/project/projectdirs/m3572/suvo/anaconda3/lib/python3.9/site-packages (from ruamel.yaml>=0.17.0->pymatgen>=2022.7.25->CASTING) (0.2.7)\n",
      "Requirement already satisfied: future in /global/project/projectdirs/m3572/suvo/anaconda3/lib/python3.9/site-packages (from uncertainties>=3.1.4->pymatgen>=2022.7.25->CASTING) (0.18.2)\n",
      "Requirement already satisfied: PyYAML>=3.01 in /global/project/projectdirs/m3572/suvo/anaconda3/lib/python3.9/site-packages (from pybtex->pymatgen>=2022.7.25->CASTING) (6.0)\n",
      "Requirement already satisfied: latexcodec>=1.0.4 in /global/project/projectdirs/m3572/suvo/anaconda3/lib/python3.9/site-packages (from pybtex->pymatgen>=2022.7.25->CASTING) (2.0.1)\n",
      "Requirement already satisfied: mpmath>=0.19 in /global/project/projectdirs/m3572/suvo/anaconda3/lib/python3.9/site-packages (from sympy->pymatgen>=2022.7.25->CASTING) (1.2.1)\n",
      "Requirement already satisfied: pydantic>=1.10.2 in /global/project/projectdirs/m3572/suvo/anaconda3/lib/python3.9/site-packages (from emmet-core>=0.39.8->mp-api>=0.27.3->pymatgen>=2022.7.25->CASTING) (1.10.5)\n",
      "Installing collected packages: numpy, CASTING\n",
      "  Attempting uninstall: numpy\n",
      "    Found existing installation: numpy 1.21.5\n",
      "    Uninstalling numpy-1.21.5:\n",
      "      Successfully uninstalled numpy-1.21.5\n",
      "\u001b[31mERROR: pip's dependency resolver does not currently take into account all the packages that are installed. This behaviour is the source of the following dependency conflicts.\n",
      "daal4py 2021.6.0 requires daal==2021.4.0, which is not installed.\n",
      "numba 0.55.1 requires numpy<1.22,>=1.18, but you have numpy 1.24.3 which is incompatible.\n",
      "cegann 0.1.1 requires numpy==1.21.5, but you have numpy 1.24.3 which is incompatible.\n",
      "cegann 0.1.1 requires scikit_learn==1.2.1, but you have scikit-learn 1.0.2 which is incompatible.\u001b[0m\u001b[31m\n",
      "\u001b[0mSuccessfully installed CASTING-0.1.1 numpy-1.24.3\n"
     ]
    }
   ],
   "source": [
    "! pip install CASTING"
   ]
  },
  {
   "cell_type": "markdown",
   "id": "232b87db-c0de-4e80-a4d9-04f52d85aaf2",
   "metadata": {},
   "source": [
    "### copying the potential file\n",
    "\n",
    "A potential function is needed to define the interaction between the atoms. We will use an embedded atom model for this case."
   ]
  },
  {
   "cell_type": "code",
   "execution_count": 1,
   "id": "94d4960e-b875-4571-a926-864430084146",
   "metadata": {
    "tags": []
   },
   "outputs": [
    {
     "data": {
      "text/plain": [
       "1790882"
      ]
     },
     "execution_count": 1,
     "metadata": {},
     "output_type": "execute_result"
    }
   ],
   "source": [
    "import requests\n",
    "url = \"https://github.com/sbanik2/CASTING/raw/main/example/Au.eam\"\n",
    "r = requests.get(url, allow_redirects=True)\n",
    "open('Au.eam', 'wb').write(r.content)"
   ]
  },
  {
   "cell_type": "markdown",
   "id": "873c39d6-141c-4dad-9758-7e0add4728ab",
   "metadata": {},
   "source": [
    "#### Import the modules"
   ]
  },
  {
   "cell_type": "code",
   "execution_count": 2,
   "id": "1e69a5b2-d047-46f3-9f48-66c6b24e9d68",
   "metadata": {
    "tags": []
   },
   "outputs": [],
   "source": [
    "import random\n",
    "import numpy as np\n",
    "from CASTING.utilis import r_datafame,get_lattice\n",
    "from CASTING.MCTS import MCTS\n",
    "from CASTING.clusterfun import createRandomData\n",
    "from CASTING.aseEamEvaluate import AseEamEvaluator\n",
    "from CASTING.perturb import perturbate\n",
    "from CASTING.writer import StructureWriter\n",
    "from pymatgen.io.vasp.inputs import Poscar\n",
    "from CASTING.clusterfun import  parm2struc"
   ]
  },
  {
   "cell_type": "code",
   "execution_count": 3,
   "id": "dab64906-2f2c-49a7-b3ce-e4067bd41b1c",
   "metadata": {
    "tags": []
   },
   "outputs": [],
   "source": [
    "\n",
    "seed = 20\n",
    "\n",
    "random.seed(seed)\n",
    "np.random.seed(seed)\n"
   ]
  },
  {
   "cell_type": "markdown",
   "id": "1bd19c3a-61dc-4a9f-a404-3265961c4f95",
   "metadata": {},
   "source": [
    "### Define the system and constrains\n",
    "\n",
    "We are working with a non-periodic cluster system, and certain constraints must be maintained. These constraints include the minimum interatomic distance, the size of the simulation box, and the amount of perturbation to do ----"
   ]
  },
  {
   "cell_type": "code",
   "execution_count": 4,
   "id": "7c8bdc89-aa08-45c7-8a2a-bfca7950a836",
   "metadata": {
    "tags": []
   },
   "outputs": [],
   "source": [
    "\n",
    "\n",
    "r_min = {\"Au-Au\":2}\n",
    "r_max = {\"Au-Au\":4}\n",
    "box_dim = 50 # Make sure there is enough vaccum in the sides\n",
    "\n",
    "#--------crystal constrains-----------\n",
    "\n",
    "constrains = {\n",
    "    \"composition\":{\"Au\":1},\n",
    "    \"atoms\":13,\n",
    "    \"r_min\":r_datafame(r_min),\n",
    "    \"r_max\":r_datafame(r_max),\n",
    "    \"lattice\":get_lattice(box_dim),  \n",
    "    }\n",
    "\n",
    "\n",
    "#-------------perturbation------------\n",
    "\n",
    "\n",
    "pt = {\n",
    "    'max_mutation': 0.05,  #Put in fraction of the box length 0.01 means 100*0.01 =1Angs\n",
    "}\n",
    "\n",
    "\n",
    "\n",
    "    \n",
    "ase_par = {\n",
    "    'constrains':constrains,\n",
    "    'par_file': \"Au.eam\", \n",
    "}\n",
    "    \n",
    "\n",
    "\n"
   ]
  },
  {
   "cell_type": "markdown",
   "id": "abb4591c-5561-4e2a-a3e1-643c97f3f0c0",
   "metadata": {},
   "source": [
    "### Generate initial random structure\n",
    "\n",
    "The root node or the starting point, is a random configuration ---"
   ]
  },
  {
   "cell_type": "code",
   "execution_count": 5,
   "id": "9d3df62e-57ee-4023-8410-bc453a9e7f5c",
   "metadata": {
    "tags": []
   },
   "outputs": [],
   "source": [
    "rootdata = createRandomData(constrains,multiplier= 10)"
   ]
  },
  {
   "cell_type": "markdown",
   "id": "c2823925-a610-4116-89ae-3f2008fbfbc9",
   "metadata": {},
   "source": [
    "##### save the initial configuration in POSCAR format"
   ]
  },
  {
   "cell_type": "code",
   "execution_count": 6,
   "id": "6d2e34bd-573f-41a0-b3f9-c00a35c67667",
   "metadata": {
    "tags": []
   },
   "outputs": [],
   "source": [
    "Poscar(parm2struc(rootdata,constrains)).write_file('init.POSCAR')"
   ]
  },
  {
   "cell_type": "markdown",
   "id": "4e8dc836-ff1c-4697-90c7-d8d844aac5f8",
   "metadata": {},
   "source": [
    "### Define calculator\n",
    "\n",
    "We need to define the calculator that evaluates the energy  ---"
   ]
  },
  {
   "cell_type": "code",
   "execution_count": 7,
   "id": "a2c02878-8542-4d2c-894b-993eb978b95b",
   "metadata": {
    "tags": []
   },
   "outputs": [],
   "source": [
    "perturb = perturbate(**pt). perturb\n",
    "evaluator = AseEamEvaluator(**ase_par).evaluate"
   ]
  },
  {
   "cell_type": "markdown",
   "id": "6897e04c-f19c-4c75-83a9-0617acec3044",
   "metadata": {},
   "source": [
    "### Launch MCTS"
   ]
  },
  {
   "cell_type": "code",
   "execution_count": 8,
   "id": "920a4cc0-f86f-4f6a-a881-e13bf4e8d0de",
   "metadata": {
    "tags": []
   },
   "outputs": [
    {
     "name": "stdout",
     "output_type": "stream",
     "text": [
      "total evaluations: 44, best score yet : -41.50836203346579\n",
      "total evaluations: 77, best score yet : -41.50836203346579\n",
      "total evaluations: 110, best score yet : -41.50836203346579\n",
      "total evaluations: 143, best score yet : -41.50836203346579\n",
      "total evaluations: 176, best score yet : -41.53183941188006\n",
      "total evaluations: 209, best score yet : -41.53183941188006\n",
      "total evaluations: 242, best score yet : -41.53183941188006\n",
      "total evaluations: 275, best score yet : -41.53183941188006\n",
      "total evaluations: 308, best score yet : -41.53184002526079\n",
      "total evaluations: 341, best score yet : -41.53184002526079\n",
      "total evaluations: 374, best score yet : -41.71028262617432\n",
      "total evaluations: 407, best score yet : -41.71028262617432\n",
      "total evaluations: 440, best score yet : -41.71028262617432\n",
      "total evaluations: 473, best score yet : -41.71028262617432\n",
      "total evaluations: 506, best score yet : -41.71028262617432\n",
      "total evaluations: 539, best score yet : -41.71028262617432\n",
      "total evaluations: 572, best score yet : -41.71028262617432\n",
      "total evaluations: 605, best score yet : -41.71028262617432\n",
      "total evaluations: 638, best score yet : -41.71028262617432\n",
      "total evaluations: 671, best score yet : -41.71028262617432\n",
      "total evaluations: 704, best score yet : -41.71028262617432\n",
      "total evaluations: 737, best score yet : -41.71028262617432\n",
      "total evaluations: 770, best score yet : -41.71028262617432\n",
      "total evaluations: 803, best score yet : -41.71028262617432\n",
      "total evaluations: 836, best score yet : -41.71028262617432\n",
      "total evaluations: 869, best score yet : -41.71028262617432\n",
      "total evaluations: 902, best score yet : -41.71028262617432\n",
      "total evaluations: 935, best score yet : -41.71028262617432\n",
      "total evaluations: 968, best score yet : -41.71028262617432\n",
      "total evaluations: 1001, best score yet : -41.95098466589481\n",
      "total evaluations: 1034, best score yet : -41.95098466589481\n",
      "total evaluations: 1067, best score yet : -41.95098466589481\n",
      "total evaluations: 1100, best score yet : -41.95098466589481\n",
      "total evaluations: 1133, best score yet : -41.95098466589481\n",
      "total evaluations: 1166, best score yet : -41.95098466589481\n"
     ]
    }
   ],
   "source": [
    "MCTS(\n",
    "    rootdata,\n",
    "    perturb ,\n",
    "    evaluator,\n",
    "    niterations=35,\n",
    "    headexpand=10,\n",
    "    nexpand=3,\n",
    "    nsimulate=3,\n",
    "    nplayouts=10,\n",
    "    exploreconstant=1,\n",
    "    maxdepth=12,\n",
    "    a=0,\n",
    "    selected_node=0,\n",
    ")"
   ]
  },
  {
   "cell_type": "markdown",
   "id": "916ad7b6-265a-43ac-9b89-2a584a594ae8",
   "metadata": {},
   "source": [
    "### write the final configuration"
   ]
  },
  {
   "cell_type": "code",
   "execution_count": 9,
   "id": "1d22d2f5-ade3-4a57-aece-ca0abed236ad",
   "metadata": {
    "collapsed": true,
    "jupyter": {
     "outputs_hidden": true
    },
    "tags": []
   },
   "outputs": [
    {
     "name": "stderr",
     "output_type": "stream",
     "text": [
      "1it [00:00, 462.18it/s]\n"
     ]
    }
   ],
   "source": [
    "from CASTING.writer import StructureWriter\n",
    "\n",
    "\n",
    "num_to_write = 1 \n",
    "writer = StructureWriter(\"dumpfile.dat\",outpath=\"./\",objfile=\"energy.dat\",file_format=\"poscar\") # \"poscar\" or \"cif\"\n",
    "writer.write( num_to_write, sort=True) # sort to arrange in increasing order of energy\n"
   ]
  },
  {
   "cell_type": "markdown",
   "id": "7c30b8da-a23e-41fa-893e-33fd10ba2880",
   "metadata": {},
   "source": [
    "#### Evolution of error"
   ]
  },
  {
   "cell_type": "code",
   "execution_count": 23,
   "id": "98a39fa6-0e30-4b02-a65e-3dfef21b9022",
   "metadata": {
    "tags": []
   },
   "outputs": [],
   "source": [
    "import matplotlib.pyplot as plt\n",
    "\n",
    "data =  open('dumpfile.dat','r').readlines()\n",
    "\n",
    "enrgs = []\n",
    "minval = 1e300\n",
    "\n",
    "\n",
    "for line in data:\n",
    "    col = line.split('|')\n",
    "    eng = float(col[-1])\n",
    "    if eng < minval:\n",
    "        enrgs.append(eng)\n",
    "        minval = eng\n",
    "    else:\n",
    "        enrgs.append(minval)\n",
    "        "
   ]
  },
  {
   "cell_type": "code",
   "execution_count": 22,
   "id": "8f0398ec-4fc3-4f25-829d-7f84660e01b4",
   "metadata": {
    "tags": []
   },
   "outputs": [
    {
     "data": {
      "text/plain": [
       "Text(0, 0.5, 'E (ev/atom)')"
      ]
     },
     "execution_count": 22,
     "metadata": {},
     "output_type": "execute_result"
    },
    {
     "data": {
      "image/png": "[encoded data removed]",
      "text/plain": [
       "<Figure size 640x480 with 1 Axes>"
      ]
     },
     "metadata": {},
     "output_type": "display_data"
    }
   ],
   "source": [
    "plt.plot(list(range(len(enrgs))),enrgs)\n",
    "plt.xlabel('Energy Iterations')\n",
    "plt.ylabel('E (ev/atom)')"
   ]
  },
  {
   "cell_type": "code",
   "execution_count": null,
   "id": "733fc0c7-0453-4f74-b787-14214a4b39e6",
   "metadata": {},
   "outputs": [],
   "source": []
  }
 ],
 "metadata": {
  "kernelspec": {
   "display_name": "anaconda_m3560",
   "language": "python",
   "name": "anaconda_m3560"
  },
  "language_info": {
   "codemirror_mode": {
    "name": "ipython",
    "version": 3
   },
   "file_extension": ".py",
   "mimetype": "text/x-python",
   "name": "python",
   "nbconvert_exporter": "python",
   "pygments_lexer": "ipython3",
   "version": "3.10.9"
  }
 },
 "nbformat": 4,
 "nbformat_minor": 5
}
